{
 "cells": [
  {
   "cell_type": "code",
   "execution_count": 1,
   "metadata": {},
   "outputs": [],
   "source": [
    "from pyfmi import load_fmu\n",
    "import fmpy"
   ]
  },
  {
   "cell_type": "code",
   "execution_count": 2,
   "metadata": {},
   "outputs": [],
   "source": [
    "## Информация о моделях"
   ]
  },
  {
   "cell_type": "code",
   "execution_count": 13,
   "metadata": {},
   "outputs": [],
   "source": [
    "fmu = '../fmu/TPPSim02.Pipes.Tests.PipeChannelFMU_Test.fmu'"
   ]
  },
  {
   "cell_type": "code",
   "execution_count": 53,
   "metadata": {},
   "outputs": [],
   "source": [
    "fmu = '../fmu/TPPSim.Furnaces.Tests.Furnace_Test.fmu'"
   ]
  },
  {
   "cell_type": "code",
   "execution_count": 14,
   "metadata": {},
   "outputs": [
    {
     "name": "stdout",
     "output_type": "stream",
     "text": [
      "\n",
      "Model Info\n",
      "\n",
      "  FMI Version       2.0\n",
      "  FMI Type          Model Exchange, Co-Simulation\n",
      "  Model Name        TPPSim02.Pipes.Tests.PipeChannelFMU_Test\n",
      "  Description       Тестовый пример с моделью PipeChannel экспорт в FMU\n",
      "  Platforms         c-code, linux64\n",
      "  Continuous States 39\n",
      "  Event Indicators  15\n",
      "  Variables         1560\n",
      "  Generation Tool   OpenModelica Compiler OpenModelica 1.14.1\n",
      "  Generation Date   2020-05-04T18:34:22Z\n",
      "\n",
      "Default Experiment\n",
      "\n",
      "  Stop Time         700\n",
      "  Tolerance         0.001\n",
      "\n",
      "Variables (input, output)\n",
      "\n",
      "Name                Causality              Start Value  Unit     Description\n",
      "valve1_pos          input                          1.0           \n",
      "valve2_pos          input                          1.0           \n"
     ]
    }
   ],
   "source": [
    "fmpy.dump(fmu)"
   ]
  },
  {
   "cell_type": "code",
   "execution_count": null,
   "metadata": {},
   "outputs": [],
   "source": []
  },
  {
   "cell_type": "code",
   "execution_count": 72,
   "metadata": {},
   "outputs": [
    {
     "ename": "Exception",
     "evalue": "The unit \"J/kg\" of variable \"channel_1.Channel[1,1].hv\" (line 254) is not defined.",
     "output_type": "error",
     "traceback": [
      "\u001b[0;31m---------------------------------------------------------------------------\u001b[0m",
      "\u001b[0;31mException\u001b[0m                                 Traceback (most recent call last)",
      "\u001b[0;32m<ipython-input-72-43ffdd848d9a>\u001b[0m in \u001b[0;36m<module>\u001b[0;34m\u001b[0m\n\u001b[0;32m----> 1\u001b[0;31m \u001b[0mresult\u001b[0m \u001b[0;34m=\u001b[0m \u001b[0mfmpy\u001b[0m\u001b[0;34m.\u001b[0m\u001b[0msimulate_fmu\u001b[0m\u001b[0;34m(\u001b[0m\u001b[0mfmu\u001b[0m\u001b[0;34m)\u001b[0m\u001b[0;34m\u001b[0m\u001b[0;34m\u001b[0m\u001b[0m\n\u001b[0m",
      "\u001b[0;32m/opt/conda/envs/myenv/lib/python3.8/site-packages/fmpy/simulation.py\u001b[0m in \u001b[0;36msimulate_fmu\u001b[0;34m(filename, validate, start_time, stop_time, solver, step_size, relative_tolerance, output_interval, record_events, fmi_type, use_source_code, start_values, apply_default_start_values, input, output, timeout, debug_logging, visible, logger, fmi_call_logger, step_finished, model_description)\u001b[0m\n\u001b[1;32m    487\u001b[0m \u001b[0;34m\u001b[0m\u001b[0m\n\u001b[1;32m    488\u001b[0m     \u001b[0;32mif\u001b[0m \u001b[0mmodel_description\u001b[0m \u001b[0;32mis\u001b[0m \u001b[0;32mNone\u001b[0m\u001b[0;34m:\u001b[0m\u001b[0;34m\u001b[0m\u001b[0;34m\u001b[0m\u001b[0m\n\u001b[0;32m--> 489\u001b[0;31m         \u001b[0mmodel_description\u001b[0m \u001b[0;34m=\u001b[0m \u001b[0mread_model_description\u001b[0m\u001b[0;34m(\u001b[0m\u001b[0mfilename\u001b[0m\u001b[0;34m,\u001b[0m \u001b[0mvalidate\u001b[0m\u001b[0;34m=\u001b[0m\u001b[0mvalidate\u001b[0m\u001b[0;34m)\u001b[0m\u001b[0;34m\u001b[0m\u001b[0;34m\u001b[0m\u001b[0m\n\u001b[0m\u001b[1;32m    490\u001b[0m     \u001b[0;32melse\u001b[0m\u001b[0;34m:\u001b[0m\u001b[0;34m\u001b[0m\u001b[0;34m\u001b[0m\u001b[0m\n\u001b[1;32m    491\u001b[0m         \u001b[0mmodel_description\u001b[0m \u001b[0;34m=\u001b[0m \u001b[0mmodel_description\u001b[0m\u001b[0;34m\u001b[0m\u001b[0;34m\u001b[0m\u001b[0m\n",
      "\u001b[0;32m/opt/conda/envs/myenv/lib/python3.8/site-packages/fmpy/model_description.py\u001b[0m in \u001b[0;36mread_model_description\u001b[0;34m(filename, validate, validate_variable_names)\u001b[0m\n\u001b[1;32m    734\u001b[0m \u001b[0;34m\u001b[0m\u001b[0m\n\u001b[1;32m    735\u001b[0m                 \u001b[0;32mif\u001b[0m \u001b[0munit\u001b[0m \u001b[0;32mis\u001b[0m \u001b[0;32mnot\u001b[0m \u001b[0;32mNone\u001b[0m \u001b[0;32mand\u001b[0m \u001b[0munit\u001b[0m \u001b[0;32mnot\u001b[0m \u001b[0;32min\u001b[0m \u001b[0munit_definitions\u001b[0m\u001b[0;34m:\u001b[0m\u001b[0;34m\u001b[0m\u001b[0;34m\u001b[0m\u001b[0m\n\u001b[0;32m--> 736\u001b[0;31m                     \u001b[0;32mraise\u001b[0m \u001b[0mException\u001b[0m\u001b[0;34m(\u001b[0m\u001b[0;34m'The unit \"%s\" of variable \"%s\" (line %s) is not defined.'\u001b[0m \u001b[0;34m%\u001b[0m \u001b[0;34m(\u001b[0m\u001b[0munit\u001b[0m\u001b[0;34m,\u001b[0m \u001b[0mvariable\u001b[0m\u001b[0;34m.\u001b[0m\u001b[0mname\u001b[0m\u001b[0;34m,\u001b[0m \u001b[0mvariable\u001b[0m\u001b[0;34m.\u001b[0m\u001b[0msourceline\u001b[0m\u001b[0;34m)\u001b[0m\u001b[0;34m)\u001b[0m\u001b[0;34m\u001b[0m\u001b[0;34m\u001b[0m\u001b[0m\n\u001b[0m\u001b[1;32m    737\u001b[0m \u001b[0;34m\u001b[0m\u001b[0m\n\u001b[1;32m    738\u001b[0m                 \u001b[0;32mif\u001b[0m \u001b[0mvariable\u001b[0m\u001b[0;34m.\u001b[0m\u001b[0mdisplayUnit\u001b[0m \u001b[0;32mis\u001b[0m \u001b[0;32mnot\u001b[0m \u001b[0;32mNone\u001b[0m \u001b[0;32mand\u001b[0m \u001b[0mvariable\u001b[0m\u001b[0;34m.\u001b[0m\u001b[0mdisplayUnit\u001b[0m \u001b[0;32mnot\u001b[0m \u001b[0;32min\u001b[0m \u001b[0munit_definitions\u001b[0m\u001b[0;34m[\u001b[0m\u001b[0munit\u001b[0m\u001b[0;34m]\u001b[0m\u001b[0;34m:\u001b[0m\u001b[0;34m\u001b[0m\u001b[0;34m\u001b[0m\u001b[0m\n",
      "\u001b[0;31mException\u001b[0m: The unit \"J/kg\" of variable \"channel_1.Channel[1,1].hv\" (line 254) is not defined."
     ]
    }
   ],
   "source": [
    "result = fmpy.simulate_fmu(fmu)"
   ]
  },
  {
   "cell_type": "code",
   "execution_count": 24,
   "metadata": {},
   "outputs": [
    {
     "ename": "Exception",
     "evalue": "The unit \"kg/s\" of variable \"channel_1.Channel[1,1].D_flow_v\" (line 254) is not defined.",
     "output_type": "error",
     "traceback": [
      "\u001b[0;31m---------------------------------------------------------------------------\u001b[0m",
      "\u001b[0;31mException\u001b[0m                                 Traceback (most recent call last)",
      "\u001b[0;32m<ipython-input-24-6fa6b6b1aad0>\u001b[0m in \u001b[0;36m<module>\u001b[0;34m\u001b[0m\n\u001b[0;32m----> 1\u001b[0;31m \u001b[0mfmpy\u001b[0m\u001b[0;34m.\u001b[0m\u001b[0mread_model_description\u001b[0m\u001b[0;34m(\u001b[0m\u001b[0mfmu\u001b[0m\u001b[0;34m)\u001b[0m\u001b[0;34m\u001b[0m\u001b[0;34m\u001b[0m\u001b[0m\n\u001b[0m",
      "\u001b[0;32m/opt/conda/envs/myenv/lib/python3.8/site-packages/fmpy/model_description.py\u001b[0m in \u001b[0;36mread_model_description\u001b[0;34m(filename, validate, validate_variable_names)\u001b[0m\n\u001b[1;32m    734\u001b[0m \u001b[0;34m\u001b[0m\u001b[0m\n\u001b[1;32m    735\u001b[0m                 \u001b[0;32mif\u001b[0m \u001b[0munit\u001b[0m \u001b[0;32mis\u001b[0m \u001b[0;32mnot\u001b[0m \u001b[0;32mNone\u001b[0m \u001b[0;32mand\u001b[0m \u001b[0munit\u001b[0m \u001b[0;32mnot\u001b[0m \u001b[0;32min\u001b[0m \u001b[0munit_definitions\u001b[0m\u001b[0;34m:\u001b[0m\u001b[0;34m\u001b[0m\u001b[0;34m\u001b[0m\u001b[0m\n\u001b[0;32m--> 736\u001b[0;31m                     \u001b[0;32mraise\u001b[0m \u001b[0mException\u001b[0m\u001b[0;34m(\u001b[0m\u001b[0;34m'The unit \"%s\" of variable \"%s\" (line %s) is not defined.'\u001b[0m \u001b[0;34m%\u001b[0m \u001b[0;34m(\u001b[0m\u001b[0munit\u001b[0m\u001b[0;34m,\u001b[0m \u001b[0mvariable\u001b[0m\u001b[0;34m.\u001b[0m\u001b[0mname\u001b[0m\u001b[0;34m,\u001b[0m \u001b[0mvariable\u001b[0m\u001b[0;34m.\u001b[0m\u001b[0msourceline\u001b[0m\u001b[0;34m)\u001b[0m\u001b[0;34m)\u001b[0m\u001b[0;34m\u001b[0m\u001b[0;34m\u001b[0m\u001b[0m\n\u001b[0m\u001b[1;32m    737\u001b[0m \u001b[0;34m\u001b[0m\u001b[0m\n\u001b[1;32m    738\u001b[0m                 \u001b[0;32mif\u001b[0m \u001b[0mvariable\u001b[0m\u001b[0;34m.\u001b[0m\u001b[0mdisplayUnit\u001b[0m \u001b[0;32mis\u001b[0m \u001b[0;32mnot\u001b[0m \u001b[0;32mNone\u001b[0m \u001b[0;32mand\u001b[0m \u001b[0mvariable\u001b[0m\u001b[0;34m.\u001b[0m\u001b[0mdisplayUnit\u001b[0m \u001b[0;32mnot\u001b[0m \u001b[0;32min\u001b[0m \u001b[0munit_definitions\u001b[0m\u001b[0;34m[\u001b[0m\u001b[0munit\u001b[0m\u001b[0;34m]\u001b[0m\u001b[0;34m:\u001b[0m\u001b[0;34m\u001b[0m\u001b[0;34m\u001b[0m\u001b[0m\n",
      "\u001b[0;31mException\u001b[0m: The unit \"kg/s\" of variable \"channel_1.Channel[1,1].D_flow_v\" (line 254) is not defined."
     ]
    }
   ],
   "source": [
    "fmpy.read_model_description(fmu)"
   ]
  },
  {
   "cell_type": "code",
   "execution_count": 8,
   "metadata": {},
   "outputs": [],
   "source": [
    "model = load_fmu('../fmu/TPPSim02.Pipes.Tests.PipeChannelFMU_Test.fmu', log_level=4)"
   ]
  },
  {
   "cell_type": "code",
   "execution_count": null,
   "metadata": {},
   "outputs": [],
   "source": [
    "res = model.simulate(final_time=10)"
   ]
  },
  {
   "cell_type": "code",
   "execution_count": null,
   "metadata": {},
   "outputs": [],
   "source": []
  },
  {
   "cell_type": "code",
   "execution_count": 6,
   "metadata": {},
   "outputs": [],
   "source": [
    "# Функция для инициализации модели на pyfmi"
   ]
  },
  {
   "cell_type": "code",
   "execution_count": 7,
   "metadata": {},
   "outputs": [],
   "source": [
    "def init_fmu(model, start_time):\n",
    "    model.setup_experiment(start_time = start_time)\n",
    "    \n",
    "    model.enter_initialization_mode()\n",
    "    model.exit_initialization_mode()"
   ]
  },
  {
   "cell_type": "code",
   "execution_count": 9,
   "metadata": {},
   "outputs": [],
   "source": [
    "model.setup_experiment(start_time = 0)"
   ]
  },
  {
   "cell_type": "code",
   "execution_count": 10,
   "metadata": {},
   "outputs": [
    {
     "data": {
      "text/plain": [
       "0"
      ]
     },
     "execution_count": 10,
     "metadata": {},
     "output_type": "execute_result"
    }
   ],
   "source": [
    "model.enter_initialization_mode()"
   ]
  },
  {
   "cell_type": "code",
   "execution_count": 11,
   "metadata": {},
   "outputs": [
    {
     "data": {
      "text/plain": [
       "0"
      ]
     },
     "execution_count": 11,
     "metadata": {},
     "output_type": "execute_result"
    }
   ],
   "source": [
    "model.exit_initialization_mode()"
   ]
  },
  {
   "cell_type": "code",
   "execution_count": 67,
   "metadata": {},
   "outputs": [
    {
     "data": {
      "text/plain": [
       "['FMIL: module = FMI2XML, log level = 4: Found model identifiers for ModelExchange and CoSimulation',\n",
       " \"FMIL: module = FMILIB, log level = 4: Loading 'linux64' binary with 'default' platform types\",\n",
       " 'FMIL: module = Model, log level = 4: [logFmi2Call][FMU status:OK] fmi2Instantiate: GUID={673b41d2-1d2c-4541-942c-710ceb6869f2}',\n",
       " 'FMIL: module = Model, log level = 4: [logFmi2Call][FMU status:OK] fmi2SetupExperiment: toleranceDefined=1 tolerance=0.001 startTime=0 stopTimeDefined=0 stopTime=700',\n",
       " 'FMIL: module = Model, log level = 4: [logFmi2Call][FMU status:OK] fmi2EnterInitializationMode...',\n",
       " 'FMIL: module = Model, log level = 4: [logFmi2Call][FMU status:OK] fmi2ExitInitializationMode...',\n",
       " 'FMIL: module = Model, log level = 2: [logFmi2Call][FMU status:Error] fmi2EnterInitializationMode: terminated by an assertion.',\n",
       " 'FMIL: module = Model, log level = 4: [logFmi2Call][FMU status:OK] fmi2ExitInitializationMode: succeed']"
      ]
     },
     "execution_count": 67,
     "metadata": {},
     "output_type": "execute_result"
    }
   ],
   "source": [
    "model.get_log()"
   ]
  },
  {
   "cell_type": "code",
   "execution_count": null,
   "metadata": {},
   "outputs": [],
   "source": []
  },
  {
   "cell_type": "code",
   "execution_count": 42,
   "metadata": {},
   "outputs": [],
   "source": [
    "eInfo = model.get_event_info()"
   ]
  },
  {
   "cell_type": "code",
   "execution_count": 43,
   "metadata": {},
   "outputs": [],
   "source": [
    "model.enter_event_mode()"
   ]
  },
  {
   "cell_type": "code",
   "execution_count": 45,
   "metadata": {},
   "outputs": [],
   "source": [
    "model.event_update()"
   ]
  },
  {
   "cell_type": "code",
   "execution_count": 46,
   "metadata": {},
   "outputs": [],
   "source": [
    "model.enter_continuous_time_mode()"
   ]
  },
  {
   "cell_type": "code",
   "execution_count": null,
   "metadata": {},
   "outputs": [],
   "source": []
  },
  {
   "cell_type": "code",
   "execution_count": null,
   "metadata": {},
   "outputs": [],
   "source": []
  },
  {
   "cell_type": "code",
   "execution_count": null,
   "metadata": {},
   "outputs": [],
   "source": []
  },
  {
   "cell_type": "code",
   "execution_count": null,
   "metadata": {},
   "outputs": [],
   "source": []
  },
  {
   "cell_type": "code",
   "execution_count": 40,
   "metadata": {},
   "outputs": [
    {
     "data": {
      "text/plain": [
       "['FMIL: module = FMI2XML, log level = 4: Found model identifiers for ModelExchange and CoSimulation',\n",
       " \"FMIL: module = FMILIB, log level = 4: Loading 'linux64' binary with 'default' platform types\",\n",
       " 'FMIL: module = Model, log level = 4: [logFmi2Call][FMU status:OK] fmi2Instantiate: GUID={673b41d2-1d2c-4541-942c-710ceb6869f2}',\n",
       " 'FMIL: module = Model, log level = 4: [logFmi2Call][FMU status:OK] fmi2SetupExperiment: toleranceDefined=1 tolerance=0.001 startTime=0 stopTimeDefined=0 stopTime=700',\n",
       " 'FMIL: module = Model, log level = 4: [logFmi2Call][FMU status:OK] fmi2EnterInitializationMode...',\n",
       " 'FMIL: module = Model, log level = 4: [logFmi2Call][FMU status:OK] fmi2ExitInitializationMode...',\n",
       " 'FMIL: module = Model, log level = 2: [logFmi2Call][FMU status:Error] fmi2EnterInitializationMode: terminated by an assertion.',\n",
       " 'FMIL: module = Model, log level = 4: [logFmi2Call][FMU status:OK] fmi2ExitInitializationMode: succeed']"
      ]
     },
     "execution_count": 40,
     "metadata": {},
     "output_type": "execute_result"
    }
   ],
   "source": [
    "model.get_log()"
   ]
  },
  {
   "cell_type": "code",
   "execution_count": null,
   "metadata": {},
   "outputs": [],
   "source": []
  }
 ],
 "metadata": {
  "kernelspec": {
   "display_name": "Python 3",
   "language": "python",
   "name": "python3"
  },
  "language_info": {
   "codemirror_mode": {
    "name": "ipython",
    "version": 3
   },
   "file_extension": ".py",
   "mimetype": "text/x-python",
   "name": "python",
   "nbconvert_exporter": "python",
   "pygments_lexer": "ipython3",
   "version": "3.8.2"
  }
 },
 "nbformat": 4,
 "nbformat_minor": 4
}
