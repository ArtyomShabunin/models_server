{
 "cells": [
  {
   "cell_type": "code",
   "execution_count": 1,
   "metadata": {},
   "outputs": [],
   "source": [
    "from pyfmi import load_fmu\n",
    "import fmpy"
   ]
  },
  {
   "cell_type": "code",
   "execution_count": 2,
   "metadata": {},
   "outputs": [],
   "source": [
    "## Информация о моделях"
   ]
  },
  {
   "cell_type": "code",
   "execution_count": 12,
   "metadata": {},
   "outputs": [],
   "source": [
    "fmu = '../fmu/TPPSim02.Pipes.Tests.PipeChannelFMU_Test.fmu'"
   ]
  },
  {
   "cell_type": "code",
   "execution_count": 13,
   "metadata": {},
   "outputs": [
    {
     "ename": "TypeError",
     "evalue": "dump() got an unexpected keyword argument 'fmu'",
     "output_type": "error",
     "traceback": [
      "\u001b[0;31m---------------------------------------------------------------------------\u001b[0m",
      "\u001b[0;31mTypeError\u001b[0m                                 Traceback (most recent call last)",
      "\u001b[0;32m<ipython-input-13-e3350109badd>\u001b[0m in \u001b[0;36m<module>\u001b[0;34m\u001b[0m\n\u001b[0;32m----> 1\u001b[0;31m \u001b[0mfmpy\u001b[0m\u001b[0;34m.\u001b[0m\u001b[0mdump\u001b[0m\u001b[0;34m(\u001b[0m\u001b[0mfmu\u001b[0m\u001b[0;34m=\u001b[0m\u001b[0mfmu\u001b[0m\u001b[0;34m,\u001b[0m \u001b[0mkind\u001b[0m\u001b[0;34m=\u001b[0m\u001b[0;34m'ME'\u001b[0m\u001b[0;34m)\u001b[0m\u001b[0;34m\u001b[0m\u001b[0;34m\u001b[0m\u001b[0m\n\u001b[0m",
      "\u001b[0;31mTypeError\u001b[0m: dump() got an unexpected keyword argument 'fmu'"
     ]
    }
   ],
   "source": [
    "fmpy.dump(fmu)"
   ]
  },
  {
   "cell_type": "code",
   "execution_count": null,
   "metadata": {},
   "outputs": [],
   "source": []
  },
  {
   "cell_type": "code",
   "execution_count": 5,
   "metadata": {},
   "outputs": [
    {
     "ename": "Exception",
     "evalue": "The unit \"J/kg\" of variable \"channel_1.Channel[1,1].hv\" (line 254) is not defined.",
     "output_type": "error",
     "traceback": [
      "\u001b[0;31m---------------------------------------------------------------------------\u001b[0m",
      "\u001b[0;31mException\u001b[0m                                 Traceback (most recent call last)",
      "\u001b[0;32m<ipython-input-5-43ffdd848d9a>\u001b[0m in \u001b[0;36m<module>\u001b[0;34m\u001b[0m\n\u001b[0;32m----> 1\u001b[0;31m \u001b[0mresult\u001b[0m \u001b[0;34m=\u001b[0m \u001b[0mfmpy\u001b[0m\u001b[0;34m.\u001b[0m\u001b[0msimulate_fmu\u001b[0m\u001b[0;34m(\u001b[0m\u001b[0mfmu\u001b[0m\u001b[0;34m)\u001b[0m\u001b[0;34m\u001b[0m\u001b[0;34m\u001b[0m\u001b[0m\n\u001b[0m",
      "\u001b[0;32m/opt/conda/envs/myenv/lib/python3.8/site-packages/fmpy/simulation.py\u001b[0m in \u001b[0;36msimulate_fmu\u001b[0;34m(filename, validate, start_time, stop_time, solver, step_size, relative_tolerance, output_interval, record_events, fmi_type, use_source_code, start_values, apply_default_start_values, input, output, timeout, debug_logging, visible, logger, fmi_call_logger, step_finished, model_description)\u001b[0m\n\u001b[1;32m    487\u001b[0m \u001b[0;34m\u001b[0m\u001b[0m\n\u001b[1;32m    488\u001b[0m     \u001b[0;32mif\u001b[0m \u001b[0mmodel_description\u001b[0m \u001b[0;32mis\u001b[0m \u001b[0;32mNone\u001b[0m\u001b[0;34m:\u001b[0m\u001b[0;34m\u001b[0m\u001b[0;34m\u001b[0m\u001b[0m\n\u001b[0;32m--> 489\u001b[0;31m         \u001b[0mmodel_description\u001b[0m \u001b[0;34m=\u001b[0m \u001b[0mread_model_description\u001b[0m\u001b[0;34m(\u001b[0m\u001b[0mfilename\u001b[0m\u001b[0;34m,\u001b[0m \u001b[0mvalidate\u001b[0m\u001b[0;34m=\u001b[0m\u001b[0mvalidate\u001b[0m\u001b[0;34m)\u001b[0m\u001b[0;34m\u001b[0m\u001b[0;34m\u001b[0m\u001b[0m\n\u001b[0m\u001b[1;32m    490\u001b[0m     \u001b[0;32melse\u001b[0m\u001b[0;34m:\u001b[0m\u001b[0;34m\u001b[0m\u001b[0;34m\u001b[0m\u001b[0m\n\u001b[1;32m    491\u001b[0m         \u001b[0mmodel_description\u001b[0m \u001b[0;34m=\u001b[0m \u001b[0mmodel_description\u001b[0m\u001b[0;34m\u001b[0m\u001b[0;34m\u001b[0m\u001b[0m\n",
      "\u001b[0;32m/opt/conda/envs/myenv/lib/python3.8/site-packages/fmpy/model_description.py\u001b[0m in \u001b[0;36mread_model_description\u001b[0;34m(filename, validate, validate_variable_names)\u001b[0m\n\u001b[1;32m    734\u001b[0m \u001b[0;34m\u001b[0m\u001b[0m\n\u001b[1;32m    735\u001b[0m                 \u001b[0;32mif\u001b[0m \u001b[0munit\u001b[0m \u001b[0;32mis\u001b[0m \u001b[0;32mnot\u001b[0m \u001b[0;32mNone\u001b[0m \u001b[0;32mand\u001b[0m \u001b[0munit\u001b[0m \u001b[0;32mnot\u001b[0m \u001b[0;32min\u001b[0m \u001b[0munit_definitions\u001b[0m\u001b[0;34m:\u001b[0m\u001b[0;34m\u001b[0m\u001b[0;34m\u001b[0m\u001b[0m\n\u001b[0;32m--> 736\u001b[0;31m                     \u001b[0;32mraise\u001b[0m \u001b[0mException\u001b[0m\u001b[0;34m(\u001b[0m\u001b[0;34m'The unit \"%s\" of variable \"%s\" (line %s) is not defined.'\u001b[0m \u001b[0;34m%\u001b[0m \u001b[0;34m(\u001b[0m\u001b[0munit\u001b[0m\u001b[0;34m,\u001b[0m \u001b[0mvariable\u001b[0m\u001b[0;34m.\u001b[0m\u001b[0mname\u001b[0m\u001b[0;34m,\u001b[0m \u001b[0mvariable\u001b[0m\u001b[0;34m.\u001b[0m\u001b[0msourceline\u001b[0m\u001b[0;34m)\u001b[0m\u001b[0;34m)\u001b[0m\u001b[0;34m\u001b[0m\u001b[0;34m\u001b[0m\u001b[0m\n\u001b[0m\u001b[1;32m    737\u001b[0m \u001b[0;34m\u001b[0m\u001b[0m\n\u001b[1;32m    738\u001b[0m                 \u001b[0;32mif\u001b[0m \u001b[0mvariable\u001b[0m\u001b[0;34m.\u001b[0m\u001b[0mdisplayUnit\u001b[0m \u001b[0;32mis\u001b[0m \u001b[0;32mnot\u001b[0m \u001b[0;32mNone\u001b[0m \u001b[0;32mand\u001b[0m \u001b[0mvariable\u001b[0m\u001b[0;34m.\u001b[0m\u001b[0mdisplayUnit\u001b[0m \u001b[0;32mnot\u001b[0m \u001b[0;32min\u001b[0m \u001b[0munit_definitions\u001b[0m\u001b[0;34m[\u001b[0m\u001b[0munit\u001b[0m\u001b[0;34m]\u001b[0m\u001b[0;34m:\u001b[0m\u001b[0;34m\u001b[0m\u001b[0;34m\u001b[0m\u001b[0m\n",
      "\u001b[0;31mException\u001b[0m: The unit \"J/kg\" of variable \"channel_1.Channel[1,1].hv\" (line 254) is not defined."
     ]
    }
   ],
   "source": [
    "result = fmpy.simulate_fmu(fmu)"
   ]
  },
  {
   "cell_type": "code",
   "execution_count": null,
   "metadata": {},
   "outputs": [],
   "source": [
    "#fmpy.read_model_description(fmu)"
   ]
  },
  {
   "cell_type": "code",
   "execution_count": null,
   "metadata": {},
   "outputs": [],
   "source": []
  },
  {
   "cell_type": "markdown",
   "metadata": {},
   "source": [
    "### Работа с pyFMI"
   ]
  },
  {
   "cell_type": "code",
   "execution_count": 2,
   "metadata": {},
   "outputs": [],
   "source": [
    "fmu = '../fmu/TPPSim02.Pipes.Tests.PipeChannelFMU_Test.fmu'\n",
    "model = load_fmu(fmu=fmu, log_level=4, kind='ME')"
   ]
  },
  {
   "cell_type": "code",
   "execution_count": 15,
   "metadata": {},
   "outputs": [],
   "source": [
    "# res = model.simulate(final_time=10)"
   ]
  },
  {
   "cell_type": "code",
   "execution_count": 3,
   "metadata": {},
   "outputs": [
    {
     "data": {
      "text/plain": [
       "['__class__',\n",
       " '__delattr__',\n",
       " '__dir__',\n",
       " '__doc__',\n",
       " '__eq__',\n",
       " '__format__',\n",
       " '__ge__',\n",
       " '__getattribute__',\n",
       " '__gt__',\n",
       " '__hash__',\n",
       " '__init__',\n",
       " '__init_subclass__',\n",
       " '__le__',\n",
       " '__lt__',\n",
       " '__ne__',\n",
       " '__new__',\n",
       " '__pyx_vtable__',\n",
       " '__reduce__',\n",
       " '__reduce_ex__',\n",
       " '__repr__',\n",
       " '__setattr__',\n",
       " '__setstate__',\n",
       " '__sizeof__',\n",
       " '__str__',\n",
       " '__subclasshook__',\n",
       " '_additional_logger',\n",
       " '_close_log_file',\n",
       " '_convert_filter',\n",
       " '_current_log_size',\n",
       " '_default_options',\n",
       " '_enable_logging',\n",
       " '_estimate_directional_derivative',\n",
       " '_exec_algorithm',\n",
       " '_exec_estimate_algorithm',\n",
       " '_exec_simulate_algorithm',\n",
       " '_get',\n",
       " '_get_A',\n",
       " '_get_B',\n",
       " '_get_C',\n",
       " '_get_D',\n",
       " '_get_continuous_states',\n",
       " '_get_directional_proxy',\n",
       " '_get_nominal_continuous_states',\n",
       " '_get_time',\n",
       " '_group_A',\n",
       " '_group_B',\n",
       " '_group_C',\n",
       " '_group_D',\n",
       " '_has_entered_init_mode',\n",
       " '_last_accepted_time',\n",
       " '_log_open',\n",
       " '_max_log_size',\n",
       " '_max_log_size_msg_sent',\n",
       " '_open_log_file',\n",
       " '_provides_directional_derivatives',\n",
       " '_pyEventInfo',\n",
       " '_relative_tolerance',\n",
       " '_save_bool_variables_val',\n",
       " '_save_int_variables_val',\n",
       " '_save_real_variables_val',\n",
       " '_set',\n",
       " '_set_continuous_states',\n",
       " '_set_time',\n",
       " '_supports_get_set_FMU_state',\n",
       " 'append_log_message',\n",
       " 'cache',\n",
       " 'completed_integrator_step',\n",
       " 'continuous_states',\n",
       " 'deserialize_fmu_state',\n",
       " 'enter_continuous_time_mode',\n",
       " 'enter_event_mode',\n",
       " 'enter_initialization_mode',\n",
       " 'estimate',\n",
       " 'estimate_options',\n",
       " 'event_update',\n",
       " 'exit_initialization_mode',\n",
       " 'extract_xml_log',\n",
       " 'file_object',\n",
       " 'force_finite_differences',\n",
       " 'free_fmu_state',\n",
       " 'free_instance',\n",
       " 'get',\n",
       " 'get_author',\n",
       " 'get_boolean',\n",
       " 'get_capability_flags',\n",
       " 'get_categories',\n",
       " 'get_copyright',\n",
       " 'get_default_experiment_start_time',\n",
       " 'get_default_experiment_step',\n",
       " 'get_default_experiment_stop_time',\n",
       " 'get_default_experiment_tolerance',\n",
       " 'get_derivatives',\n",
       " 'get_derivatives_dependencies',\n",
       " 'get_derivatives_list',\n",
       " 'get_description',\n",
       " 'get_directional_derivative',\n",
       " 'get_event_indicators',\n",
       " 'get_event_info',\n",
       " 'get_fmil_log_level',\n",
       " 'get_fmu_state',\n",
       " 'get_generation_date_and_time',\n",
       " 'get_generation_tool',\n",
       " 'get_guid',\n",
       " 'get_identifier',\n",
       " 'get_input_list',\n",
       " 'get_integer',\n",
       " 'get_license',\n",
       " 'get_log',\n",
       " 'get_log_file_name',\n",
       " 'get_log_filename',\n",
       " 'get_log_level',\n",
       " 'get_max_log_size',\n",
       " 'get_model_time_varying_value_references',\n",
       " 'get_model_types_platform',\n",
       " 'get_model_variables',\n",
       " 'get_model_version',\n",
       " 'get_name',\n",
       " 'get_number_of_lines_log',\n",
       " 'get_ode_sizes',\n",
       " 'get_output_dependencies',\n",
       " 'get_output_list',\n",
       " 'get_real',\n",
       " 'get_scalar_variable',\n",
       " 'get_state_space_representation',\n",
       " 'get_states_list',\n",
       " 'get_string',\n",
       " 'get_tolerances',\n",
       " 'get_variable_alias',\n",
       " 'get_variable_alias_base',\n",
       " 'get_variable_by_valueref',\n",
       " 'get_variable_causality',\n",
       " 'get_variable_data_type',\n",
       " 'get_variable_declared_type',\n",
       " 'get_variable_description',\n",
       " 'get_variable_display_unit',\n",
       " 'get_variable_display_value',\n",
       " 'get_variable_initial',\n",
       " 'get_variable_max',\n",
       " 'get_variable_min',\n",
       " 'get_variable_naming_convention',\n",
       " 'get_variable_nominal',\n",
       " 'get_variable_references',\n",
       " 'get_variable_start',\n",
       " 'get_variable_unit',\n",
       " 'get_variable_valueref',\n",
       " 'get_variable_variability',\n",
       " 'get_version',\n",
       " 'initialize',\n",
       " 'instantiate',\n",
       " 'nominal_continuous_states',\n",
       " 'print_log',\n",
       " 'reset',\n",
       " 'serialize_fmu_state',\n",
       " 'serialized_fmu_state_size',\n",
       " 'set',\n",
       " 'set_additional_logger',\n",
       " 'set_boolean',\n",
       " 'set_debug_logging',\n",
       " 'set_fmil_log_level',\n",
       " 'set_fmu_state',\n",
       " 'set_integer',\n",
       " 'set_log_level',\n",
       " 'set_max_log_size',\n",
       " 'set_real',\n",
       " 'set_string',\n",
       " 'setup_experiment',\n",
       " 'simulate',\n",
       " 'simulate_options',\n",
       " 'terminate',\n",
       " 'time']"
      ]
     },
     "execution_count": 3,
     "metadata": {},
     "output_type": "execute_result"
    }
   ],
   "source": [
    "dir(model)"
   ]
  },
  {
   "cell_type": "code",
   "execution_count": 23,
   "metadata": {},
   "outputs": [],
   "source": [
    "model.setup_experiment()"
   ]
  },
  {
   "cell_type": "code",
   "execution_count": 10,
   "metadata": {},
   "outputs": [],
   "source": [
    "model.initialize()"
   ]
  },
  {
   "cell_type": "code",
   "execution_count": 11,
   "metadata": {},
   "outputs": [
    {
     "data": {
      "text/plain": [
       "['__class__',\n",
       " '__delattr__',\n",
       " '__dir__',\n",
       " '__doc__',\n",
       " '__eq__',\n",
       " '__format__',\n",
       " '__ge__',\n",
       " '__getattribute__',\n",
       " '__gt__',\n",
       " '__hash__',\n",
       " '__init__',\n",
       " '__init_subclass__',\n",
       " '__le__',\n",
       " '__lt__',\n",
       " '__ne__',\n",
       " '__new__',\n",
       " '__pyx_vtable__',\n",
       " '__reduce__',\n",
       " '__reduce_ex__',\n",
       " '__repr__',\n",
       " '__setattr__',\n",
       " '__setstate__',\n",
       " '__sizeof__',\n",
       " '__str__',\n",
       " '__subclasshook__',\n",
       " '_additional_logger',\n",
       " '_close_log_file',\n",
       " '_convert_filter',\n",
       " '_current_log_size',\n",
       " '_default_options',\n",
       " '_enable_logging',\n",
       " '_exec_algorithm',\n",
       " '_exec_estimate_algorithm',\n",
       " '_exec_simulate_algorithm',\n",
       " '_get',\n",
       " '_get_A',\n",
       " '_get_B',\n",
       " '_get_C',\n",
       " '_get_D',\n",
       " '_get_directional_proxy',\n",
       " '_get_time',\n",
       " '_group_A',\n",
       " '_group_B',\n",
       " '_group_C',\n",
       " '_group_D',\n",
       " '_has_entered_init_mode',\n",
       " '_last_accepted_time',\n",
       " '_log_open',\n",
       " '_max_log_size',\n",
       " '_max_log_size_msg_sent',\n",
       " '_open_log_file',\n",
       " '_provides_directional_derivatives',\n",
       " '_pyEventInfo',\n",
       " '_relative_tolerance',\n",
       " '_save_bool_variables_val',\n",
       " '_save_int_variables_val',\n",
       " '_save_real_variables_val',\n",
       " '_set',\n",
       " '_set_time',\n",
       " '_supports_get_set_FMU_state',\n",
       " 'append_log_message',\n",
       " 'cache',\n",
       " 'cancel_step',\n",
       " 'deserialize_fmu_state',\n",
       " 'do_step',\n",
       " 'enter_initialization_mode',\n",
       " 'estimate',\n",
       " 'estimate_options',\n",
       " 'exit_initialization_mode',\n",
       " 'extract_xml_log',\n",
       " 'file_object',\n",
       " 'free_fmu_state',\n",
       " 'free_instance',\n",
       " 'get',\n",
       " 'get_author',\n",
       " 'get_boolean',\n",
       " 'get_boolean_status',\n",
       " 'get_capability_flags',\n",
       " 'get_categories',\n",
       " 'get_copyright',\n",
       " 'get_default_experiment_start_time',\n",
       " 'get_default_experiment_step',\n",
       " 'get_default_experiment_stop_time',\n",
       " 'get_default_experiment_tolerance',\n",
       " 'get_derivatives_dependencies',\n",
       " 'get_derivatives_list',\n",
       " 'get_description',\n",
       " 'get_directional_derivative',\n",
       " 'get_fmil_log_level',\n",
       " 'get_fmu_state',\n",
       " 'get_generation_date_and_time',\n",
       " 'get_generation_tool',\n",
       " 'get_guid',\n",
       " 'get_identifier',\n",
       " 'get_input_list',\n",
       " 'get_integer',\n",
       " 'get_integer_status',\n",
       " 'get_license',\n",
       " 'get_log',\n",
       " 'get_log_file_name',\n",
       " 'get_log_filename',\n",
       " 'get_log_level',\n",
       " 'get_max_log_size',\n",
       " 'get_model_time_varying_value_references',\n",
       " 'get_model_types_platform',\n",
       " 'get_model_variables',\n",
       " 'get_model_version',\n",
       " 'get_name',\n",
       " 'get_number_of_lines_log',\n",
       " 'get_ode_sizes',\n",
       " 'get_output_dependencies',\n",
       " 'get_output_derivatives',\n",
       " 'get_output_list',\n",
       " 'get_real',\n",
       " 'get_real_status',\n",
       " 'get_scalar_variable',\n",
       " 'get_state_space_representation',\n",
       " 'get_states_list',\n",
       " 'get_status',\n",
       " 'get_string',\n",
       " 'get_string_status',\n",
       " 'get_variable_alias',\n",
       " 'get_variable_alias_base',\n",
       " 'get_variable_by_valueref',\n",
       " 'get_variable_causality',\n",
       " 'get_variable_data_type',\n",
       " 'get_variable_declared_type',\n",
       " 'get_variable_description',\n",
       " 'get_variable_display_unit',\n",
       " 'get_variable_display_value',\n",
       " 'get_variable_initial',\n",
       " 'get_variable_max',\n",
       " 'get_variable_min',\n",
       " 'get_variable_naming_convention',\n",
       " 'get_variable_nominal',\n",
       " 'get_variable_references',\n",
       " 'get_variable_start',\n",
       " 'get_variable_unit',\n",
       " 'get_variable_valueref',\n",
       " 'get_variable_variability',\n",
       " 'get_version',\n",
       " 'initialize',\n",
       " 'instantiate',\n",
       " 'print_log',\n",
       " 'reset',\n",
       " 'serialize_fmu_state',\n",
       " 'serialized_fmu_state_size',\n",
       " 'set',\n",
       " 'set_additional_logger',\n",
       " 'set_boolean',\n",
       " 'set_debug_logging',\n",
       " 'set_fmil_log_level',\n",
       " 'set_fmu_state',\n",
       " 'set_input_derivatives',\n",
       " 'set_integer',\n",
       " 'set_log_level',\n",
       " 'set_max_log_size',\n",
       " 'set_real',\n",
       " 'set_string',\n",
       " 'setup_experiment',\n",
       " 'simulate',\n",
       " 'simulate_options',\n",
       " 'terminate',\n",
       " 'time']"
      ]
     },
     "execution_count": 11,
     "metadata": {},
     "output_type": "execute_result"
    }
   ],
   "source": [
    "dir(model)"
   ]
  },
  {
   "cell_type": "code",
   "execution_count": 12,
   "metadata": {},
   "outputs": [
    {
     "ename": "AttributeError",
     "evalue": "'pyfmi.fmi.FMUModelCS2' object has no attribute 'continuous_states'",
     "output_type": "error",
     "traceback": [
      "\u001b[0;31m---------------------------------------------------------------------------\u001b[0m",
      "\u001b[0;31mAttributeError\u001b[0m                            Traceback (most recent call last)",
      "\u001b[0;32m<ipython-input-12-dededdfe5e9c>\u001b[0m in \u001b[0;36m<module>\u001b[0;34m\u001b[0m\n\u001b[0;32m----> 1\u001b[0;31m \u001b[0mmodel\u001b[0m\u001b[0;34m.\u001b[0m\u001b[0mcontinuous_states\u001b[0m\u001b[0;34m\u001b[0m\u001b[0;34m\u001b[0m\u001b[0m\n\u001b[0m",
      "\u001b[0;31mAttributeError\u001b[0m: 'pyfmi.fmi.FMUModelCS2' object has no attribute 'continuous_states'"
     ]
    }
   ],
   "source": [
    "model.continuous_states"
   ]
  },
  {
   "cell_type": "code",
   "execution_count": 4,
   "metadata": {},
   "outputs": [],
   "source": [
    "model.setup_experiment?"
   ]
  },
  {
   "cell_type": "code",
   "execution_count": 6,
   "metadata": {},
   "outputs": [],
   "source": [
    "model.simulate?"
   ]
  },
  {
   "cell_type": "code",
   "execution_count": 7,
   "metadata": {},
   "outputs": [],
   "source": [
    "model.simulate_options?"
   ]
  },
  {
   "cell_type": "code",
   "execution_count": 11,
   "metadata": {},
   "outputs": [],
   "source": [
    "load_fmu?"
   ]
  },
  {
   "cell_type": "code",
   "execution_count": 5,
   "metadata": {},
   "outputs": [],
   "source": [
    "model.continuous_states?"
   ]
  },
  {
   "cell_type": "code",
   "execution_count": 6,
   "metadata": {},
   "outputs": [],
   "source": [
    "opts = model.simulate_options()"
   ]
  },
  {
   "cell_type": "code",
   "execution_count": 7,
   "metadata": {},
   "outputs": [
    {
     "data": {
      "text/plain": [
       "{'solver': 'CVode',\n",
       " 'ncp': 500,\n",
       " 'initialize': True,\n",
       " 'sensitivities': None,\n",
       " 'write_scaled_result': False,\n",
       " 'result_file_name': '',\n",
       " 'with_jacobian': 'Default',\n",
       " 'logging': False,\n",
       " 'result_handling': 'binary',\n",
       " 'result_handler': None,\n",
       " 'return_result': True,\n",
       " 'result_store_variable_description': True,\n",
       " 'filter': None,\n",
       " 'extra_equations': None,\n",
       " 'CVode_options': {'discr': 'BDF',\n",
       "  'iter': 'Newton',\n",
       "  'atol': 'Default',\n",
       "  'rtol': 'Default',\n",
       "  'maxh': 'Default',\n",
       "  'external_event_detection': False},\n",
       " 'Radau5ODE_options': {'atol': 'Default',\n",
       "  'rtol': 'Default',\n",
       "  'maxh': 'Default'},\n",
       " 'RungeKutta34_options': {'atol': 'Default', 'rtol': 'Default'},\n",
       " 'Dopri5_options': {'atol': 'Default', 'rtol': 'Default', 'maxh': 'Default'},\n",
       " 'RodasODE_options': {'atol': 'Default', 'rtol': 'Default', 'maxh': 'Default'},\n",
       " 'LSODAR_options': {'atol': 'Default', 'rtol': 'Default', 'maxh': 'Default'},\n",
       " 'ExplicitEuler_options': {},\n",
       " 'ImplicitEuler_options': {}}"
      ]
     },
     "execution_count": 7,
     "metadata": {},
     "output_type": "execute_result"
    }
   ],
   "source": [
    "opts"
   ]
  },
  {
   "cell_type": "code",
   "execution_count": 20,
   "metadata": {},
   "outputs": [
    {
     "ename": "KeyError",
     "evalue": "'CVode_options'",
     "output_type": "error",
     "traceback": [
      "\u001b[0;31m---------------------------------------------------------------------------\u001b[0m",
      "\u001b[0;31mKeyError\u001b[0m                                  Traceback (most recent call last)",
      "\u001b[0;32m<ipython-input-20-6e2a2021b581>\u001b[0m in \u001b[0;36m<module>\u001b[0;34m\u001b[0m\n\u001b[0;32m----> 1\u001b[0;31m \u001b[0mopts\u001b[0m\u001b[0;34m[\u001b[0m\u001b[0;34m\"CVode_options\"\u001b[0m\u001b[0;34m]\u001b[0m\u001b[0;34m[\u001b[0m\u001b[0;34m\"atol\"\u001b[0m\u001b[0;34m]\u001b[0m \u001b[0;34m=\u001b[0m \u001b[0;36m1e-6\u001b[0m \u001b[0;31m#Change the absolute tolerance\u001b[0m\u001b[0;34m\u001b[0m\u001b[0;34m\u001b[0m\u001b[0m\n\u001b[0m\u001b[1;32m      2\u001b[0m \u001b[0mopts\u001b[0m\u001b[0;34m[\u001b[0m\u001b[0;34m\"CVode_options\"\u001b[0m\u001b[0;34m]\u001b[0m\u001b[0;34m[\u001b[0m\u001b[0;34m\"discr\"\u001b[0m\u001b[0;34m]\u001b[0m \u001b[0;34m=\u001b[0m \u001b[0;34m\"Adams\"\u001b[0m \u001b[0;31m#Change the discretization from BDF to Adams\u001b[0m\u001b[0;34m\u001b[0m\u001b[0;34m\u001b[0m\u001b[0m\n",
      "\u001b[0;31mKeyError\u001b[0m: 'CVode_options'"
     ]
    }
   ],
   "source": [
    "opts[\"CVode_options\"][\"atol\"] = 1e-6 #Change the absolute tolerance\n",
    "opts[\"CVode_options\"][\"discr\"] = \"Adams\" #Change the discretization from BDF to Adams"
   ]
  },
  {
   "cell_type": "code",
   "execution_count": null,
   "metadata": {},
   "outputs": [],
   "source": [
    "res = model.simulate(final_time=10)"
   ]
  },
  {
   "cell_type": "code",
   "execution_count": null,
   "metadata": {},
   "outputs": [],
   "source": [
    "# Информация о модели"
   ]
  },
  {
   "cell_type": "code",
   "execution_count": 10,
   "metadata": {},
   "outputs": [
    {
     "data": {
      "text/plain": [
       "{'tolerance': 1e-06,\n",
       " 'result_file_name': '',\n",
       " 'filter': None,\n",
       " 'method': 'Nelder-Mead',\n",
       " 'scaling': 'Default',\n",
       " 'simulate_options': 'Default'}"
      ]
     },
     "execution_count": 10,
     "metadata": {},
     "output_type": "execute_result"
    }
   ],
   "source": [
    "model.estimate_options()"
   ]
  },
  {
   "cell_type": "code",
   "execution_count": null,
   "metadata": {},
   "outputs": [],
   "source": []
  },
  {
   "cell_type": "code",
   "execution_count": null,
   "metadata": {},
   "outputs": [],
   "source": []
  },
  {
   "cell_type": "code",
   "execution_count": null,
   "metadata": {},
   "outputs": [],
   "source": [
    "variable_list = model.get_model_variables()"
   ]
  },
  {
   "cell_type": "code",
   "execution_count": null,
   "metadata": {},
   "outputs": [],
   "source": []
  },
  {
   "cell_type": "code",
   "execution_count": null,
   "metadata": {},
   "outputs": [],
   "source": [
    "\n",
    "for i in variable_list.keys():\n",
    "    if ('channel' in i) and (model.get_variable_variability(i) == 4):\n",
    "        print(i, model.get_variable_unit(i))"
   ]
  },
  {
   "cell_type": "code",
   "execution_count": null,
   "metadata": {},
   "outputs": [],
   "source": [
    "\n",
    "model.get_variable_alias('valve_1.port_b.m_flow')"
   ]
  },
  {
   "cell_type": "code",
   "execution_count": null,
   "metadata": {},
   "outputs": [],
   "source": [
    "'channel' in 'channel_1.Channel[1,4].D[2]'"
   ]
  },
  {
   "cell_type": "code",
   "execution_count": null,
   "metadata": {},
   "outputs": [],
   "source": [
    "model.get_input_list()"
   ]
  },
  {
   "cell_type": "code",
   "execution_count": null,
   "metadata": {},
   "outputs": [],
   "source": [
    "# Инициализация"
   ]
  },
  {
   "cell_type": "code",
   "execution_count": null,
   "metadata": {},
   "outputs": [],
   "source": [
    "model.initialize(start_time = 0)\n",
    "model.get_log()"
   ]
  },
  {
   "cell_type": "code",
   "execution_count": null,
   "metadata": {},
   "outputs": [],
   "source": [
    "# Интегрирование"
   ]
  },
  {
   "cell_type": "code",
   "execution_count": null,
   "metadata": {},
   "outputs": [],
   "source": [
    "# Шаг интегрирования принимаем!\n",
    "dt = 0.01\n",
    "# Время расчет принимает\n",
    "Tend = 700"
   ]
  },
  {
   "cell_type": "code",
   "execution_count": null,
   "metadata": {},
   "outputs": [],
   "source": [
    "dx = model.get_derivatives()\n",
    "        \n",
    "#Advance\n",
    "h = min(dt, Tend-model.time)\n",
    "\n",
    "#Set the time\n",
    "model.time += h"
   ]
  },
  {
   "cell_type": "code",
   "execution_count": null,
   "metadata": {},
   "outputs": [],
   "source": []
  },
  {
   "cell_type": "code",
   "execution_count": null,
   "metadata": {},
   "outputs": [],
   "source": []
  },
  {
   "cell_type": "code",
   "execution_count": null,
   "metadata": {},
   "outputs": [],
   "source": []
  },
  {
   "cell_type": "code",
   "execution_count": null,
   "metadata": {},
   "outputs": [],
   "source": []
  },
  {
   "cell_type": "code",
   "execution_count": null,
   "metadata": {},
   "outputs": [],
   "source": [
    "# Задаем время\n",
    "model.time += min(dt, Tend-model.time)"
   ]
  },
  {
   "cell_type": "code",
   "execution_count": null,
   "metadata": {},
   "outputs": [],
   "source": [
    "# Устанавливаем параметры в заданный момент времени\n",
    "model.continuous_states = "
   ]
  },
  {
   "cell_type": "code",
   "execution_count": null,
   "metadata": {},
   "outputs": [],
   "source": []
  },
  {
   "cell_type": "code",
   "execution_count": null,
   "metadata": {},
   "outputs": [],
   "source": [
    "model.setup_experiment(start_time = 0)"
   ]
  },
  {
   "cell_type": "code",
   "execution_count": null,
   "metadata": {},
   "outputs": [],
   "source": [
    "model.enter_initialization_mode()"
   ]
  },
  {
   "cell_type": "code",
   "execution_count": null,
   "metadata": {},
   "outputs": [],
   "source": [
    "model.exit_initialization_mode()"
   ]
  },
  {
   "cell_type": "code",
   "execution_count": null,
   "metadata": {},
   "outputs": [],
   "source": [
    "model.get_log()"
   ]
  },
  {
   "cell_type": "code",
   "execution_count": null,
   "metadata": {},
   "outputs": [],
   "source": []
  },
  {
   "cell_type": "code",
   "execution_count": null,
   "metadata": {},
   "outputs": [],
   "source": [
    "eInfo = model.get_event_info()"
   ]
  },
  {
   "cell_type": "code",
   "execution_count": null,
   "metadata": {},
   "outputs": [],
   "source": [
    "model.enter_event_mode()"
   ]
  },
  {
   "cell_type": "code",
   "execution_count": null,
   "metadata": {},
   "outputs": [],
   "source": [
    "model.event_update()"
   ]
  },
  {
   "cell_type": "code",
   "execution_count": null,
   "metadata": {},
   "outputs": [],
   "source": [
    "model.enter_continuous_time_mode()"
   ]
  },
  {
   "cell_type": "code",
   "execution_count": null,
   "metadata": {},
   "outputs": [],
   "source": []
  },
  {
   "cell_type": "code",
   "execution_count": null,
   "metadata": {},
   "outputs": [],
   "source": []
  },
  {
   "cell_type": "code",
   "execution_count": null,
   "metadata": {},
   "outputs": [],
   "source": []
  },
  {
   "cell_type": "code",
   "execution_count": null,
   "metadata": {},
   "outputs": [],
   "source": []
  },
  {
   "cell_type": "code",
   "execution_count": null,
   "metadata": {},
   "outputs": [],
   "source": [
    "model.get_log()"
   ]
  },
  {
   "cell_type": "code",
   "execution_count": null,
   "metadata": {},
   "outputs": [],
   "source": []
  }
 ],
 "metadata": {
  "kernelspec": {
   "display_name": "Python 3",
   "language": "python",
   "name": "python3"
  },
  "language_info": {
   "codemirror_mode": {
    "name": "ipython",
    "version": 3
   },
   "file_extension": ".py",
   "mimetype": "text/x-python",
   "name": "python",
   "nbconvert_exporter": "python",
   "pygments_lexer": "ipython3",
   "version": "3.8.2"
  }
 },
 "nbformat": 4,
 "nbformat_minor": 4
}
