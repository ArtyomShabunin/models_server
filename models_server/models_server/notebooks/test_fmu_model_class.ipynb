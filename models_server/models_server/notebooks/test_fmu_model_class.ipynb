{
 "cells": [
  {
   "cell_type": "markdown",
   "metadata": {},
   "source": [
    "## Тестирование класса FMU_model"
   ]
  },
  {
   "cell_type": "code",
   "execution_count": 1,
   "metadata": {},
   "outputs": [],
   "source": [
    "import time"
   ]
  },
  {
   "cell_type": "code",
   "execution_count": 2,
   "metadata": {},
   "outputs": [],
   "source": [
    "import sys\n",
    "sys.path.append('../')"
   ]
  },
  {
   "cell_type": "code",
   "execution_count": 3,
   "metadata": {},
   "outputs": [],
   "source": [
    "from models_server import db\n",
    "from models_server.models import Model, Variable, Measurement, Achive, Task"
   ]
  },
  {
   "cell_type": "code",
   "execution_count": 4,
   "metadata": {},
   "outputs": [],
   "source": [
    "from models_server.fmu_model import *"
   ]
  },
  {
   "cell_type": "code",
   "execution_count": 5,
   "metadata": {},
   "outputs": [],
   "source": [
    "import pandas as pd\n",
    "import numpy as np"
   ]
  },
  {
   "cell_type": "code",
   "execution_count": 6,
   "metadata": {},
   "outputs": [],
   "source": [
    "def write_to_db(df, db, diff, time):\n",
    "    df['to_db'] = True\n",
    "    df.loc[abs((df.sol - df.prev_sol) / df.sol) > diff, 'to_db'] = False\n",
    "    df.loc[(df.sol - df.prev_sol) == 0, 'to_db'] = False\n",
    "    flag = 0\n",
    "    for index, row in df.loc[df.to_db, ('id', 'sol')].iterrows():\n",
    "        db.session.add(Measurement(achive_id=achive.id, variable_id=row['id'], value=row['sol'], time=time))\n",
    "        flag += 1\n",
    "    db.session.commit()\n",
    "    print('На шаге {} записано {} переменных'.format(time, flag))"
   ]
  },
  {
   "cell_type": "code",
   "execution_count": 7,
   "metadata": {},
   "outputs": [],
   "source": [
    "user_id = 3\n",
    "model_id = 1"
   ]
  },
  {
   "cell_type": "code",
   "execution_count": 8,
   "metadata": {},
   "outputs": [],
   "source": [
    "# Создаем задачу в базе данных\n",
    "task = Task(model_id=model_id, user_id=user_id)\n",
    "db.session.add(task)\n",
    "db.session.commit()"
   ]
  },
  {
   "cell_type": "code",
   "execution_count": 9,
   "metadata": {},
   "outputs": [],
   "source": [
    "# Инстанс классса\n",
    "new_model = fmu_model('../fmu/TPPSim02.Pipes.Tests.PipeChannelFMU_Test.fmu')"
   ]
  },
  {
   "cell_type": "code",
   "execution_count": 10,
   "metadata": {},
   "outputs": [
    {
     "name": "stdout",
     "output_type": "stream",
     "text": [
      "Инициализация модели выполнена\n"
     ]
    }
   ],
   "source": [
    "# Инициализация модели\n",
    "# Здесь должно быть задание входных параметров\n",
    "new_model.initialize()"
   ]
  },
  {
   "cell_type": "code",
   "execution_count": 11,
   "metadata": {},
   "outputs": [],
   "source": [
    "# Создание архива в базе данных\n",
    "achive = Achive(user_id=user_id, task_id=task.id, model_id=model_id)\n",
    "db.session.add(achive)\n",
    "db.session.commit()"
   ]
  },
  {
   "cell_type": "code",
   "execution_count": 12,
   "metadata": {},
   "outputs": [],
   "source": [
    "# Получаем значения переменных\n",
    "db_model = Model.query.get(1)\n",
    "var = db_model.variables.all()"
   ]
  },
  {
   "cell_type": "code",
   "execution_count": 13,
   "metadata": {},
   "outputs": [],
   "source": [
    "df = pd.DataFrame({\n",
    "    'id':[i.id for i in var],\n",
    "    'name':[i.name for i in var],\n",
    "    'vref':[new_model.model.get_variable_valueref(i.name) for i in var],\n",
    "    'sol':np.nan,\n",
    "    'prev_sol':np.nan\n",
    "})"
   ]
  },
  {
   "cell_type": "code",
   "execution_count": 14,
   "metadata": {},
   "outputs": [],
   "source": [
    "df['sol'] = new_model.model.get_real(df.vref)"
   ]
  },
  {
   "cell_type": "code",
   "execution_count": null,
   "metadata": {},
   "outputs": [],
   "source": []
  },
  {
   "cell_type": "code",
   "execution_count": null,
   "metadata": {},
   "outputs": [
    {
     "name": "stdout",
     "output_type": "stream",
     "text": [
      "На шаге 0 записано 473 переменных\n",
      "Точка -1\n",
      "Точка 0\n",
      "Точка 1\n",
      "Точка 2\n",
      "Точка 3\n",
      "На шаге 0.01 записано 60 переменных\n",
      "Точка -1\n",
      "Точка 0\n",
      "Точка 1\n",
      "Точка 2\n",
      "Точка 3\n",
      "На шаге 0.02 записано 90 переменных\n",
      "Точка -1\n",
      "Точка 0\n",
      "Точка 1\n",
      "Точка 2\n",
      "Точка 3\n",
      "На шаге 0.03 записано 94 переменных\n",
      "Точка -1\n",
      "Точка 0\n",
      "Точка 1\n",
      "Точка 2\n",
      "Точка 3\n",
      "На шаге 0.04 записано 109 переменных\n",
      "Точка -1\n",
      "Точка 0\n",
      "Точка 1\n",
      "Точка 2\n",
      "Точка 3\n",
      "На шаге 0.05 записано 74 переменных\n",
      "Точка -1\n",
      "Точка 0\n",
      "Точка 1\n",
      "Точка 2\n",
      "Точка 3\n",
      "На шаге 0.060000000000000005 записано 82 переменных\n",
      "Точка -1\n",
      "Точка 0\n",
      "Точка 1\n",
      "Точка 2\n",
      "Точка 3\n",
      "На шаге 0.07 записано 74 переменных\n",
      "Точка -1\n",
      "Точка 0\n"
     ]
    }
   ],
   "source": [
    "#     time.sleep(1)\n",
    "while True:\n",
    "    # Запись переменных в БД\n",
    "    write_to_db(df, db, 1e-4, new_model.model.time)\n",
    "    # Итегрирование\n",
    "    new_model.integrate()\n",
    "    # Сохранение предыдущего и текущего решений\n",
    "    df['prev_sol'] = df.sol\n",
    "    df.sol = new_model.model.get_real(df.vref)"
   ]
  },
  {
   "cell_type": "code",
   "execution_count": null,
   "metadata": {},
   "outputs": [],
   "source": [
    "new_model.model.get_log()"
   ]
  },
  {
   "cell_type": "code",
   "execution_count": null,
   "metadata": {},
   "outputs": [],
   "source": [
    "# for m in Measurement.query.all():\n",
    "#     db.session.delete(m)\n",
    "# db.session.commit()"
   ]
  },
  {
   "cell_type": "code",
   "execution_count": null,
   "metadata": {},
   "outputs": [],
   "source": []
  }
 ],
 "metadata": {
  "kernelspec": {
   "display_name": "Python 3",
   "language": "python",
   "name": "python3"
  },
  "language_info": {
   "codemirror_mode": {
    "name": "ipython",
    "version": 3
   },
   "file_extension": ".py",
   "mimetype": "text/x-python",
   "name": "python",
   "nbconvert_exporter": "python",
   "pygments_lexer": "ipython3",
   "version": "3.8.2"
  }
 },
 "nbformat": 4,
 "nbformat_minor": 4
}
