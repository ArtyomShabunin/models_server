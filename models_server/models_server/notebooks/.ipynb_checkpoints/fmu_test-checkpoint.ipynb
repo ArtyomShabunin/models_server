{
 "cells": [
  {
   "cell_type": "code",
   "execution_count": 9,
   "metadata": {},
   "outputs": [],
   "source": [
    "from pyfmi import load_fmu\n",
    "import fmpy"
   ]
  },
  {
   "cell_type": "code",
   "execution_count": 10,
   "metadata": {},
   "outputs": [],
   "source": [
    "## Информация о моделях"
   ]
  },
  {
   "cell_type": "code",
   "execution_count": 12,
   "metadata": {},
   "outputs": [
    {
     "name": "stdout",
     "output_type": "stream",
     "text": [
      "\n",
      "Model Info\n",
      "\n",
      "  FMI Version       2.0\n",
      "  FMI Type          Model Exchange, Co-Simulation\n",
      "  Model Name        TPPSim02.Pipes.Tests.PipeChannelFMU_Test\n",
      "  Description       Тестовый пример с моделью PipeChannel экспорт в FMU\n",
      "  Platforms         c-code, linux64\n",
      "  Continuous States 48\n",
      "  Event Indicators  19\n",
      "  Variables         1544\n",
      "  Generation Tool   OpenModelica Compiler OpenModelica 1.14.1\n",
      "  Generation Date   2020-05-04T12:08:58Z\n",
      "\n",
      "Default Experiment\n",
      "\n",
      "  Stop Time         700\n",
      "  Tolerance         0.001\n",
      "\n",
      "Variables (input, output)\n",
      "\n",
      "Name                Causality              Start Value  Unit     Description\n",
      "valve1_pos          input                          1.0           \n",
      "valve2_pos          input                          1.0           \n"
     ]
    }
   ],
   "source": [
    "fmpy.dump('../fmu/TPPSim02.Pipes.Tests.PipeChannelFMU_Test.fmu')"
   ]
  },
  {
   "cell_type": "code",
   "execution_count": 14,
   "metadata": {},
   "outputs": [],
   "source": [
    "#fmpy.dump('../fmu/TPPSim.Furnaces.Tests.Furnace_Test.fmu')"
   ]
  },
  {
   "cell_type": "code",
   "execution_count": null,
   "metadata": {},
   "outputs": [],
   "source": []
  },
  {
   "cell_type": "code",
   "execution_count": 2,
   "metadata": {},
   "outputs": [],
   "source": [
    "model = load_fmu('../fmu/TPPSim02.Pipes.Tests.PipeChannelFMU_Test.fmu')"
   ]
  },
  {
   "cell_type": "code",
   "execution_count": 3,
   "metadata": {},
   "outputs": [
    {
     "data": {
      "text/plain": [
       "<pyfmi.fmi.FMUModelME2 at 0x56268fc82cb0>"
      ]
     },
     "execution_count": 3,
     "metadata": {},
     "output_type": "execute_result"
    }
   ],
   "source": [
    "model"
   ]
  },
  {
   "cell_type": "code",
   "execution_count": null,
   "metadata": {},
   "outputs": [],
   "source": []
  },
  {
   "cell_type": "code",
   "execution_count": 8,
   "metadata": {},
   "outputs": [],
   "source": [
    "# Функция для инициализации модели на pyfmi"
   ]
  },
  {
   "cell_type": "code",
   "execution_count": null,
   "metadata": {},
   "outputs": [],
   "source": [
    "def init_fmu(model):\n",
    "    "
   ]
  }
 ],
 "metadata": {
  "kernelspec": {
   "display_name": "Python 3",
   "language": "python",
   "name": "python3"
  },
  "language_info": {
   "codemirror_mode": {
    "name": "ipython",
    "version": 3
   },
   "file_extension": ".py",
   "mimetype": "text/x-python",
   "name": "python",
   "nbconvert_exporter": "python",
   "pygments_lexer": "ipython3",
   "version": "3.8.2"
  }
 },
 "nbformat": 4,
 "nbformat_minor": 4
}
